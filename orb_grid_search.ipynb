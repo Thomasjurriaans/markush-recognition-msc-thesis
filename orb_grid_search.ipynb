{
 "cells": [
  {
   "cell_type": "code",
   "execution_count": null,
   "metadata": {},
   "outputs": [],
   "source": [
    "import numpy as np\n",
    "from torch.utils.data import ConcatDataset\n",
    "import pandas as pd\n",
    "from matplotlib import pyplot as plt\n",
    "from pprint import pformat\n",
    "\n",
    "from sklearn.model_selection import ParameterGrid\n",
    "from importlib import reload\n",
    "from torch.utils.data import random_split\n",
    "\n",
    "import modules.orbGridSearch as ogs\n",
    "import modules.markush as md\n",
    "\n",
    "reload(md)\n",
    "reload(ogs)\n"
   ]
  },
  {
   "cell_type": "code",
   "execution_count": null,
   "metadata": {},
   "outputs": [],
   "source": []
  },
  {
   "cell_type": "code",
   "execution_count": null,
   "metadata": {},
   "outputs": [],
   "source": [
    "MD = md.MarkushDataset.from_dir('./data/training')\n",
    "#train_set, validation_set = random_split(MD, [0.8, 0.2])\n",
    "train_set, validation_set, test_set = random_split(MD, [0.6, 0.2, 0.2])\n",
    "\n",
    "#MD_aux = md.MarkushDataset.from_dir('./data/New_Patent_Images')"
   ]
  },
  {
   "cell_type": "code",
   "execution_count": null,
   "metadata": {},
   "outputs": [],
   "source": [
    "outputs = []\n",
    "\n",
    "\"\"\"param_grid = {\n",
    "    'in_nr_orb_features': [500, 2000],\n",
    "    'in_nr_patches': [50, 100, 250],\n",
    "    'in_xgb_nr_estimators': [500, 1500],\n",
    "    'in_xgb_max_depth': [6, 15]\n",
    "}\"\"\"\n",
    "\n",
    "param_grid = {\n",
    "    'in_nr_orb_features': [2000],\n",
    "    'in_nr_patches': [100],\n",
    "    'in_xgb_nr_estimators': [1500],\n",
    "    'in_xgb_max_depth': [6]\n",
    "}"
   ]
  },
  {
   "cell_type": "code",
   "execution_count": null,
   "metadata": {},
   "outputs": [],
   "source": [
    "for params in ParameterGrid(param_grid):\n",
    "    outputs.append(ogs.grid_search(MD=MD, train_set=train_set, validation_set=validation_set, **params))\n",
    "    pd.DataFrame(outputs).to_csv(\"Orb_GridSearch_Results.csv\") # Save validation results"
   ]
  },
  {
   "cell_type": "code",
   "execution_count": null,
   "metadata": {},
   "outputs": [],
   "source": [
    "best_params = max(outputs, key=lambda x: x['accuracy'])"
   ]
  },
  {
   "cell_type": "code",
   "execution_count": null,
   "metadata": {},
   "outputs": [],
   "source": [
    "# Use test set for evaluating on the best set, train on both validation and train\n",
    "best_results = ogs.grid_search(MD=MD, train_set=ConcatDataset([train_set, validation_set]), validation_set=test_set,\n",
    "                                in_nr_orb_features=best_params['in_nr_orb_features'],\n",
    "                                in_nr_patches=best_params['in_nr_patches'],\n",
    "                                in_xgb_nr_estimators=best_params['in_xgb_nr_estimators'],\n",
    "                                in_xgb_max_depth=best_params['in_xgb_max_depth'])\n",
    "\n",
    "with open('best_results2.txt', 'w') as f:\n",
    "    f.write(\"Results on validation set:\\n\")\n",
    "    f.write(pformat(best_params))\n",
    "    f.write(\"\\n\\n\\n\")\n",
    "    f.write(\"Results on test set:\\n\")\n",
    "    f.write(pformat(best_results))"
   ]
  },
  {
   "cell_type": "code",
   "execution_count": null,
   "metadata": {},
   "outputs": [],
   "source": []
  }
 ],
 "metadata": {
  "kernelspec": {
   "display_name": "thesisenv",
   "language": "python",
   "name": "python3"
  },
  "language_info": {
   "codemirror_mode": {
    "name": "ipython",
    "version": 3
   },
   "file_extension": ".py",
   "mimetype": "text/x-python",
   "name": "python",
   "nbconvert_exporter": "python",
   "pygments_lexer": "ipython3",
   "version": "3.8.10"
  },
  "orig_nbformat": 4
 },
 "nbformat": 4,
 "nbformat_minor": 2
}
